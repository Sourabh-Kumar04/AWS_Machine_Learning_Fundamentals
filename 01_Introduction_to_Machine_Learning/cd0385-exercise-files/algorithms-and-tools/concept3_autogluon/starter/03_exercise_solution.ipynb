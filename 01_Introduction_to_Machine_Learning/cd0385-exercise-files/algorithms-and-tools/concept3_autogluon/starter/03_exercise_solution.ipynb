{
  "cells": [
    {
      "cell_type": "markdown",
      "id": "d9520883-fb9c-42fd-8d73-d19e3a401c7f",
      "metadata": {
        "id": "d9520883-fb9c-42fd-8d73-d19e3a401c7f"
      },
      "source": [
        "Throughout this lesson, you've been trying different models on the same two datasets, wine and diabetes. Now, we're going to try our hand at accelerating this methodology by using AutoGluon. In this exercise, train two different AutonGluon models and see how they compare to previous iterations in exercise 1 and 2.\n",
        "\n",
        "You're tasked with completing the following steps:\n",
        "1. Load in the wine dataset from scikit learn.\n",
        "2. For the wine dataset, create a train and test split, 80% train / 20% test.\n",
        "3. Create a AutoGluon Classifier model with these hyper parameters:\n",
        "    1. time_limit: 120\n",
        "    2. presets: best_quality\n",
        "4. Output the model table summary\n",
        "5. Evaluate the trained model on the test dataset\n",
        "6. Load the diabetes dataset from scikit learn\n",
        "7. For the Diabetes dataset, create a train and test split, 80% train / 20% test.\n",
        "8. Create a AutoGluon Regression model with these hyper parameters:\n",
        "    1. eval_metric: r2\n",
        "    2. time_limit: 120\n",
        "    3. presets: best_quality\n",
        "9. Output the model table summary\n",
        "10. Evaluate the trained model on the test dataset"
      ]
    },
    {
      "cell_type": "markdown",
      "id": "8b0ac658-af67-4355-a789-147a1a98b7cd",
      "metadata": {
        "id": "8b0ac658-af67-4355-a789-147a1a98b7cd"
      },
      "source": [
        "## Setup"
      ]
    },
    {
      "cell_type": "markdown",
      "id": "dc846de2-0e72-4935-a786-ae65df4f2948",
      "metadata": {
        "id": "dc846de2-0e72-4935-a786-ae65df4f2948"
      },
      "source": [
        "### Open up Sagemaker Studio"
      ]
    },
    {
      "cell_type": "markdown",
      "id": "4a4cbe42-87c5-4671-87e4-507764ad0ed4",
      "metadata": {
        "id": "4a4cbe42-87c5-4671-87e4-507764ad0ed4"
      },
      "source": [
        "1. Notebook should be using a `ml.t3.medium` instance (2 vCPU + 4 GiB)\n",
        "2. Notebook should be using kernal: `Python 3 (MXNet 1.8 Python 3.7 CPU Optimized)`"
      ]
    },
    {
      "cell_type": "code",
      "execution_count": null,
      "id": "d158af04-dd1d-4e26-8e63-e81de4e6bbfc",
      "metadata": {
        "colab": {
          "base_uri": "https://localhost:8080/",
          "height": 1000
        },
        "id": "d158af04-dd1d-4e26-8e63-e81de4e6bbfc",
        "outputId": "709e8748-7bfd-48b9-d0cf-69b0a4521e1c"
      },
      "outputs": [],
      "source": [
        "!pip install -U pip\n",
        "!pip install numpy==1.23.5 scipy==1.10.1\n",
        "!pip install -U setuptools wheel\n",
        "!pip install -U \"mxnet<2.0.0\" bokeh==2.0.1\n",
        "!pip install autogluon --no-cache-dir"
      ]
    },
    {
      "cell_type": "code",
      "execution_count": null,
      "id": "6dfefd6d-ed7f-46e3-a0c0-befda8d6aa23",
      "metadata": {
        "id": "6dfefd6d-ed7f-46e3-a0c0-befda8d6aa23"
      },
      "outputs": [],
      "source": [
        "import numpy as np\n",
        "np.bool8 = np.bool_\n",
        "import pandas as pd\n",
        "from sklearn import datasets\n",
        "from sklearn.metrics import r2_score, accuracy_score\n",
        "from sklearn.model_selection import train_test_split\n",
        "from autogluon.tabular import TabularDataset, TabularPredictor"
      ]
    },
    {
      "cell_type": "markdown",
      "id": "66e6fd8c-df16-4109-a7a8-6c6ccb2cdf29",
      "metadata": {
        "id": "66e6fd8c-df16-4109-a7a8-6c6ccb2cdf29"
      },
      "source": [
        "## AutoGluon Classifier"
      ]
    },
    {
      "cell_type": "code",
      "execution_count": null,
      "id": "fc9c70a0-c311-4cf7-befb-92641f071326",
      "metadata": {
        "id": "fc9c70a0-c311-4cf7-befb-92641f071326"
      },
      "outputs": [],
      "source": [
        "# Load in the wine dataset\n",
        "wine = datasets.load_wine()"
      ]
    },
    {
      "cell_type": "code",
      "execution_count": null,
      "id": "2d674674-0c0f-4a2a-8d0a-c8b1fc4c11a0",
      "metadata": {
        "id": "2d674674-0c0f-4a2a-8d0a-c8b1fc4c11a0"
      },
      "outputs": [],
      "source": [
        "# Create the wine `data` dataset as a dataframe and name the columns with `feature_names`\n",
        "df = pd.DataFrame(wine[\"data\"], columns=wine[\"feature_names\"])\n",
        "\n",
        "# Include the target as well\n",
        "df['target'] = wine[\"target\"]"
      ]
    },
    {
      "cell_type": "code",
      "execution_count": null,
      "id": "75ee9c82-4e05-4952-8be9-7f823436d32b",
      "metadata": {
        "id": "75ee9c82-4e05-4952-8be9-7f823436d32b"
      },
      "outputs": [],
      "source": [
        "# Split your data with these ratios: train: 0.8 | test: 0.2\n",
        "df_train, df_test = train_test_split(df, test_size=0.2, random_state=0)"
      ]
    },
    {
      "cell_type": "code",
      "execution_count": 33,
      "id": "7205ac08-20cd-48c5-a90e-44960f6d81f6",
      "metadata": {
        "colab": {
          "base_uri": "https://localhost:8080/"
        },
        "id": "7205ac08-20cd-48c5-a90e-44960f6d81f6",
        "outputId": "006facfe-6552-479a-91f7-6c6fceb866b8",
        "tags": []
      },
      "outputs": [
        {
          "name": "stderr",
          "output_type": "stream",
          "text": [
            "No path specified. Models will be saved in: \"AutogluonModels/ag-20250527_115248\"\n",
            "Verbosity: 2 (Standard Logging)\n",
            "=================== System Info ===================\n",
            "AutoGluon Version:  1.3.1\n",
            "Python Version:     3.11.12\n",
            "Operating System:   Linux\n",
            "Platform Machine:   x86_64\n",
            "Platform Version:   #1 SMP PREEMPT_DYNAMIC Sun Mar 30 16:01:29 UTC 2025\n",
            "CPU Count:          2\n",
            "Memory Avail:       10.69 GB / 12.67 GB (84.3%)\n",
            "Disk Space Avail:   66.30 GB / 107.72 GB (61.5%)\n",
            "===================================================\n",
            "Presets specified: ['best_quality']\n",
            "Setting dynamic_stacking from 'auto' to True. Reason: Enable dynamic_stacking when use_bag_holdout is disabled. (use_bag_holdout=False)\n",
            "Stack configuration (auto_stack=True): num_stack_levels=1, num_bag_folds=8, num_bag_sets=1\n",
            "DyStack is enabled (dynamic_stacking=True). AutoGluon will try to determine whether the input data is affected by stacked overfitting and enable or disable stacking as a consequence.\n",
            "\tThis is used to identify the optimal `num_stack_levels` value. Copies of AutoGluon will be fit on subsets of the data. Then holdout validation data is used to detect stacked overfitting.\n",
            "\tRunning DyStack for up to 30s of the 120s of remaining time (25%).\n",
            "\t\tContext path: \"/content/AutogluonModels/ag-20250527_115248/ds_sub_fit/sub_fit_ho\"\n",
            "Leaderboard on holdout data (DyStack):\n",
            "                    model  score_holdout  score_val eval_metric  pred_time_test  pred_time_val   fit_time  pred_time_test_marginal  pred_time_val_marginal  fit_time_marginal  stack_level  can_infer  fit_order\n",
            "0  NeuralNetFastAI_BAG_L1         0.9375   0.984127    accuracy        2.495217       0.106490  54.477238                 2.495217                0.106490          54.477238            1       True          3\n",
            "1     WeightedEnsemble_L3         0.9375   0.984127    accuracy        2.500045       0.107946  54.525464                 0.004828                0.001456           0.048226            3       True          5\n",
            "2     WeightedEnsemble_L2         0.9375   0.984127    accuracy        2.502502       0.107457  54.520776                 0.007285                0.000967           0.043538            2       True          4\n",
            "3   KNeighborsUnif_BAG_L1         0.5625   0.690476    accuracy        0.015441       0.015329   0.006620                 0.015441                0.015329           0.006620            1       True          1\n",
            "4   KNeighborsDist_BAG_L1         0.5625   0.706349    accuracy        0.015456       0.013756   0.005931                 0.015456                0.013756           0.005931            1       True          2\n",
            "\t1\t = Optimal   num_stack_levels (Stacked Overfitting Occurred: False)\n",
            "\t66s\t = DyStack   runtime |\t54s\t = Remaining runtime\n",
            "Starting main fit with num_stack_levels=1.\n",
            "\tFor future fit calls on this dataset, you can skip DyStack to save time: `predictor.fit(..., dynamic_stacking=False, num_stack_levels=1)`\n",
            "Beginning AutoGluon training ... Time limit = 54s\n",
            "AutoGluon will save models to \"/content/AutogluonModels/ag-20250527_115248\"\n",
            "Train Data Rows:    142\n",
            "Train Data Columns: 13\n",
            "Label Column:       target\n",
            "Problem Type:       multiclass\n",
            "Preprocessing data ...\n",
            "Train Data Class Count: 3\n",
            "Using Feature Generators to preprocess the data ...\n",
            "Fitting AutoMLPipelineFeatureGenerator...\n",
            "\tAvailable Memory:                    10957.52 MB\n",
            "\tTrain Data (Original)  Memory Usage: 0.01 MB (0.0% of available memory)\n",
            "\tInferring data type of each feature based on column values. Set feature_metadata_in to manually specify special dtypes of the features.\n",
            "\tStage 1 Generators:\n",
            "\t\tFitting AsTypeFeatureGenerator...\n",
            "\tStage 2 Generators:\n",
            "\t\tFitting FillNaFeatureGenerator...\n",
            "\tStage 3 Generators:\n",
            "\t\tFitting IdentityFeatureGenerator...\n",
            "\tStage 4 Generators:\n",
            "\t\tFitting DropUniqueFeatureGenerator...\n",
            "\tStage 5 Generators:\n",
            "\t\tFitting DropDuplicatesFeatureGenerator...\n",
            "\tTypes of features in original data (raw dtype, special dtypes):\n",
            "\t\t('float', []) : 13 | ['alcohol', 'malic_acid', 'ash', 'alcalinity_of_ash', 'magnesium', ...]\n",
            "\tTypes of features in processed data (raw dtype, special dtypes):\n",
            "\t\t('float', []) : 13 | ['alcohol', 'malic_acid', 'ash', 'alcalinity_of_ash', 'magnesium', ...]\n",
            "\t0.1s = Fit runtime\n",
            "\t13 features in original data used to generate 13 features in processed data.\n",
            "\tTrain Data (Processed) Memory Usage: 0.01 MB (0.0% of available memory)\n",
            "Data preprocessing and feature engineering runtime = 0.13s ...\n",
            "AutoGluon will gauge predictive performance using evaluation metric: 'accuracy'\n",
            "\tTo change this, specify the eval_metric parameter of Predictor()\n",
            "Large model count detected (112 configs) ... Only displaying the first 3 models of each family. To see all, set `verbosity=3`.\n",
            "User-specified model hyperparameters to be fit:\n",
            "{\n",
            "\t'NN_TORCH': [{}, {'activation': 'elu', 'dropout_prob': 0.10077639529843717, 'hidden_size': 108, 'learning_rate': 0.002735937344002146, 'num_layers': 4, 'use_batchnorm': True, 'weight_decay': 1.356433327634438e-12, 'ag_args': {'name_suffix': '_r79', 'priority': -2}}, {'activation': 'elu', 'dropout_prob': 0.11897478034205347, 'hidden_size': 213, 'learning_rate': 0.0010474382260641949, 'num_layers': 4, 'use_batchnorm': False, 'weight_decay': 5.594471067786272e-10, 'ag_args': {'name_suffix': '_r22', 'priority': -7}}],\n",
            "\t'GBM': [{'extra_trees': True, 'ag_args': {'name_suffix': 'XT'}}, {}, {'learning_rate': 0.03, 'num_leaves': 128, 'feature_fraction': 0.9, 'min_data_in_leaf': 3, 'ag_args': {'name_suffix': 'Large', 'priority': 0, 'hyperparameter_tune_kwargs': None}}],\n",
            "\t'CAT': [{}, {'depth': 6, 'grow_policy': 'SymmetricTree', 'l2_leaf_reg': 2.1542798306067823, 'learning_rate': 0.06864209415792857, 'max_ctr_complexity': 4, 'one_hot_max_size': 10, 'ag_args': {'name_suffix': '_r177', 'priority': -1}}, {'depth': 8, 'grow_policy': 'Depthwise', 'l2_leaf_reg': 2.7997999596449104, 'learning_rate': 0.031375015734637225, 'max_ctr_complexity': 2, 'one_hot_max_size': 3, 'ag_args': {'name_suffix': '_r9', 'priority': -5}}],\n",
            "\t'XGB': [{}, {'colsample_bytree': 0.6917311125174739, 'enable_categorical': False, 'learning_rate': 0.018063876087523967, 'max_depth': 10, 'min_child_weight': 0.6028633586934382, 'ag_args': {'name_suffix': '_r33', 'priority': -8}}, {'colsample_bytree': 0.6628423832084077, 'enable_categorical': False, 'learning_rate': 0.08775715546881824, 'max_depth': 5, 'min_child_weight': 0.6294123374222513, 'ag_args': {'name_suffix': '_r89', 'priority': -16}}],\n",
            "\t'FASTAI': [{}, {'bs': 256, 'emb_drop': 0.5411770367537934, 'epochs': 43, 'layers': [800, 400], 'lr': 0.01519848858318159, 'ps': 0.23782946566604385, 'ag_args': {'name_suffix': '_r191', 'priority': -4}}, {'bs': 2048, 'emb_drop': 0.05070411322605811, 'epochs': 29, 'layers': [200, 100], 'lr': 0.08974235041576624, 'ps': 0.10393466140748028, 'ag_args': {'name_suffix': '_r102', 'priority': -11}}],\n",
            "\t'RF': [{'criterion': 'gini', 'ag_args': {'name_suffix': 'Gini', 'problem_types': ['binary', 'multiclass']}}, {'criterion': 'entropy', 'ag_args': {'name_suffix': 'Entr', 'problem_types': ['binary', 'multiclass']}}, {'criterion': 'squared_error', 'ag_args': {'name_suffix': 'MSE', 'problem_types': ['regression', 'quantile']}}],\n",
            "\t'XT': [{'criterion': 'gini', 'ag_args': {'name_suffix': 'Gini', 'problem_types': ['binary', 'multiclass']}}, {'criterion': 'entropy', 'ag_args': {'name_suffix': 'Entr', 'problem_types': ['binary', 'multiclass']}}, {'criterion': 'squared_error', 'ag_args': {'name_suffix': 'MSE', 'problem_types': ['regression', 'quantile']}}],\n",
            "\t'KNN': [{'weights': 'uniform', 'ag_args': {'name_suffix': 'Unif'}}, {'weights': 'distance', 'ag_args': {'name_suffix': 'Dist'}}],\n",
            "}\n",
            "AutoGluon will fit 2 stack levels (L1 to L2) ...\n",
            "Fitting 110 L1 models, fit_strategy=\"sequential\" ...\n",
            "Fitting model: KNeighborsUnif_BAG_L1 ... Training model for up to 35.71s of the 53.55s of remaining time.\n",
            "\t0.662\t = Validation score   (accuracy)\n",
            "\t0.01s\t = Training   runtime\n",
            "\t0.01s\t = Validation runtime\n",
            "Fitting model: KNeighborsDist_BAG_L1 ... Training model for up to 35.66s of the 53.50s of remaining time.\n",
            "\t0.7113\t = Validation score   (accuracy)\n",
            "\t0.01s\t = Training   runtime\n",
            "\t0.01s\t = Validation runtime\n",
            "Fitting model: NeuralNetFastAI_BAG_L1 ... Training model for up to 35.62s of the 53.45s of remaining time.\n",
            "\tFitting 8 child models (S1F1 - S1F8) | Fitting with ParallelLocalFoldFittingStrategy (2 workers, per: cpus=1, gpus=0, memory=0.00%)\n",
            "\t0.9859\t = Validation score   (accuracy)\n",
            "\t51.69s\t = Training   runtime\n",
            "\t0.18s\t = Validation runtime\n",
            "Fitting model: WeightedEnsemble_L2 ... Training model for up to 53.58s of the -4.08s of remaining time.\n",
            "\tEnsemble Weights: {'NeuralNetFastAI_BAG_L1': 1.0}\n",
            "\t0.9859\t = Validation score   (accuracy)\n",
            "\t0.06s\t = Training   runtime\n",
            "\t0.0s\t = Validation runtime\n",
            "Fitting 108 L2 models, fit_strategy=\"sequential\" ...\n",
            "Fitting model: WeightedEnsemble_L3 ... Training model for up to 53.58s of the -4.29s of remaining time.\n",
            "\tEnsemble Weights: {'NeuralNetFastAI_BAG_L1': 1.0}\n",
            "\t0.9859\t = Validation score   (accuracy)\n",
            "\t0.07s\t = Training   runtime\n",
            "\t0.0s\t = Validation runtime\n",
            "AutoGluon training complete, total runtime = 58.1s ... Best model: WeightedEnsemble_L2 | Estimated inference throughput: 100.4 rows/s (18 batch size)\n",
            "TabularPredictor saved. To load, use: predictor = TabularPredictor.load(\"/content/AutogluonModels/ag-20250527_115248\")\n"
          ]
        }
      ],
      "source": [
        "# How does the model perform on the training dataset and default model parameters?\n",
        "# Using the hyperparameters in the requirements, is there improvement?\n",
        "# Remember we use the test dataset to score the model\n",
        "# No need to explicitly say this is a classifier, autogluon will pick it up\n",
        "predictor = TabularPredictor(label=\"target\").fit(\n",
        "    train_data=df_train, time_limit=120, presets=\"best_quality\"\n",
        ")"
      ]
    },
    {
      "cell_type": "code",
      "execution_count": 34,
      "id": "46b15550-b62b-4a80-857e-12710eee9e73",
      "metadata": {
        "colab": {
          "base_uri": "https://localhost:8080/"
        },
        "id": "46b15550-b62b-4a80-857e-12710eee9e73",
        "outputId": "5e650840-6a2d-484e-c2c2-f0be355a8681",
        "tags": []
      },
      "outputs": [
        {
          "name": "stdout",
          "output_type": "stream",
          "text": [
            "*** Summary of fit() ***\n",
            "Estimated performance of each model:\n",
            "                    model  score_val eval_metric  pred_time_val   fit_time  pred_time_val_marginal  fit_time_marginal  stack_level  can_infer  fit_order\n",
            "0  NeuralNetFastAI_BAG_L1   0.985915    accuracy       0.179090  51.694389                0.179090          51.694389            1       True          3\n",
            "1     WeightedEnsemble_L3   0.985915    accuracy       0.180550  51.767531                0.001460           0.073143            3       True          5\n",
            "2     WeightedEnsemble_L2   0.985915    accuracy       0.180814  51.751824                0.001724           0.057436            2       True          4\n",
            "3   KNeighborsDist_BAG_L1   0.711268    accuracy       0.013766   0.006286                0.013766           0.006286            1       True          2\n",
            "4   KNeighborsUnif_BAG_L1   0.661972    accuracy       0.014504   0.006584                0.014504           0.006584            1       True          1\n",
            "Number of models trained: 5\n",
            "Types of models trained:\n",
            "{'StackerEnsembleModel_KNN', 'StackerEnsembleModel_NNFastAiTabular', 'WeightedEnsembleModel'}\n",
            "Bagging used: True  (with 8 folds)\n",
            "Multi-layer stack-ensembling used: True  (with 3 levels)\n",
            "Feature Metadata (Processed):\n",
            "(raw dtype, special dtypes):\n",
            "('float', []) : 13 | ['alcohol', 'malic_acid', 'ash', 'alcalinity_of_ash', 'magnesium', ...]\n",
            "*** End of fit() summary ***\n"
          ]
        },
        {
          "name": "stderr",
          "output_type": "stream",
          "text": [
            "/usr/local/lib/python3.11/dist-packages/autogluon/core/utils/plots.py:169: UserWarning: AutoGluon summary plots cannot be created because bokeh is not installed. To see plots, please do: \"pip install bokeh==2.0.1\"\n",
            "  warnings.warn('AutoGluon summary plots cannot be created because bokeh is not installed. To see plots, please do: \"pip install bokeh==2.0.1\"')\n"
          ]
        },
        {
          "data": {
            "text/plain": [
              "{'model_types': {'KNeighborsUnif_BAG_L1': 'StackerEnsembleModel_KNN',\n",
              "  'KNeighborsDist_BAG_L1': 'StackerEnsembleModel_KNN',\n",
              "  'NeuralNetFastAI_BAG_L1': 'StackerEnsembleModel_NNFastAiTabular',\n",
              "  'WeightedEnsemble_L2': 'WeightedEnsembleModel',\n",
              "  'WeightedEnsemble_L3': 'WeightedEnsembleModel'},\n",
              " 'model_performance': {'KNeighborsUnif_BAG_L1': 0.6619718309859155,\n",
              "  'KNeighborsDist_BAG_L1': 0.7112676056338029,\n",
              "  'NeuralNetFastAI_BAG_L1': 0.9859154929577465,\n",
              "  'WeightedEnsemble_L2': 0.9859154929577465,\n",
              "  'WeightedEnsemble_L3': 0.9859154929577465},\n",
              " 'model_best': 'WeightedEnsemble_L2',\n",
              " 'model_paths': {'KNeighborsUnif_BAG_L1': ['KNeighborsUnif_BAG_L1'],\n",
              "  'KNeighborsDist_BAG_L1': ['KNeighborsDist_BAG_L1'],\n",
              "  'NeuralNetFastAI_BAG_L1': ['NeuralNetFastAI_BAG_L1'],\n",
              "  'WeightedEnsemble_L2': ['WeightedEnsemble_L2'],\n",
              "  'WeightedEnsemble_L3': ['WeightedEnsemble_L3']},\n",
              " 'model_fit_times': {'KNeighborsUnif_BAG_L1': 0.006583690643310547,\n",
              "  'KNeighborsDist_BAG_L1': 0.006286144256591797,\n",
              "  'NeuralNetFastAI_BAG_L1': 51.69438886642456,\n",
              "  'WeightedEnsemble_L2': 0.05743551254272461,\n",
              "  'WeightedEnsemble_L3': 0.07314252853393555},\n",
              " 'model_pred_times': {'KNeighborsUnif_BAG_L1': 0.014503717422485352,\n",
              "  'KNeighborsDist_BAG_L1': 0.013766050338745117,\n",
              "  'NeuralNetFastAI_BAG_L1': 0.17909026145935059,\n",
              "  'WeightedEnsemble_L2': 0.0017240047454833984,\n",
              "  'WeightedEnsemble_L3': 0.0014598369598388672},\n",
              " 'num_bag_folds': 8,\n",
              " 'max_stack_level': 3,\n",
              " 'num_classes': 3,\n",
              " 'model_hyperparams': {'KNeighborsUnif_BAG_L1': {'use_orig_features': True,\n",
              "   'valid_stacker': True,\n",
              "   'max_base_models': 0,\n",
              "   'max_base_models_per_type': 'auto',\n",
              "   'save_bag_folds': True,\n",
              "   'stratify': 'auto',\n",
              "   'bin': 'auto',\n",
              "   'n_bins': None,\n",
              "   'use_child_oof': True},\n",
              "  'KNeighborsDist_BAG_L1': {'use_orig_features': True,\n",
              "   'valid_stacker': True,\n",
              "   'max_base_models': 0,\n",
              "   'max_base_models_per_type': 'auto',\n",
              "   'save_bag_folds': True,\n",
              "   'stratify': 'auto',\n",
              "   'bin': 'auto',\n",
              "   'n_bins': None,\n",
              "   'use_child_oof': True},\n",
              "  'NeuralNetFastAI_BAG_L1': {'use_orig_features': True,\n",
              "   'valid_stacker': True,\n",
              "   'max_base_models': 0,\n",
              "   'max_base_models_per_type': 'auto',\n",
              "   'save_bag_folds': True,\n",
              "   'stratify': 'auto',\n",
              "   'bin': 'auto',\n",
              "   'n_bins': None},\n",
              "  'WeightedEnsemble_L2': {'use_orig_features': False,\n",
              "   'valid_stacker': True,\n",
              "   'max_base_models': 0,\n",
              "   'max_base_models_per_type': 'auto',\n",
              "   'save_bag_folds': True,\n",
              "   'stratify': 'auto',\n",
              "   'bin': 'auto',\n",
              "   'n_bins': None},\n",
              "  'WeightedEnsemble_L3': {'use_orig_features': False,\n",
              "   'valid_stacker': True,\n",
              "   'max_base_models': 0,\n",
              "   'max_base_models_per_type': 'auto',\n",
              "   'save_bag_folds': True,\n",
              "   'stratify': 'auto',\n",
              "   'bin': 'auto',\n",
              "   'n_bins': None}},\n",
              " 'leaderboard':                     model  score_val eval_metric  pred_time_val   fit_time  \\\n",
              " 0  NeuralNetFastAI_BAG_L1   0.985915    accuracy       0.179090  51.694389   \n",
              " 1     WeightedEnsemble_L3   0.985915    accuracy       0.180550  51.767531   \n",
              " 2     WeightedEnsemble_L2   0.985915    accuracy       0.180814  51.751824   \n",
              " 3   KNeighborsDist_BAG_L1   0.711268    accuracy       0.013766   0.006286   \n",
              " 4   KNeighborsUnif_BAG_L1   0.661972    accuracy       0.014504   0.006584   \n",
              " \n",
              "    pred_time_val_marginal  fit_time_marginal  stack_level  can_infer  \\\n",
              " 0                0.179090          51.694389            1       True   \n",
              " 1                0.001460           0.073143            3       True   \n",
              " 2                0.001724           0.057436            2       True   \n",
              " 3                0.013766           0.006286            1       True   \n",
              " 4                0.014504           0.006584            1       True   \n",
              " \n",
              "    fit_order  \n",
              " 0          3  \n",
              " 1          5  \n",
              " 2          4  \n",
              " 3          2  \n",
              " 4          1  }"
            ]
          },
          "execution_count": 34,
          "metadata": {},
          "output_type": "execute_result"
        }
      ],
      "source": [
        "# Output the fit summary of the training run\n",
        "predictor.fit_summary()"
      ]
    },
    {
      "cell_type": "code",
      "execution_count": 35,
      "id": "112eb97b",
      "metadata": {
        "colab": {
          "base_uri": "https://localhost:8080/",
          "height": 624
        },
        "id": "112eb97b",
        "outputId": "7fe71652-8689-4312-a78c-3c7c0dfaa585"
      },
      "outputs": [
        {
          "data": {
            "text/plain": [
              "<Axes: xlabel='model'>"
            ]
          },
          "execution_count": 35,
          "metadata": {},
          "output_type": "execute_result"
        },
        {
          "data": {
            "image/png": "[encoded data removed]",
            "text/plain": [
              "<Figure size 640x480 with 1 Axes>"
            ]
          },
          "metadata": {},
          "output_type": "display_data"
        }
      ],
      "source": [
        "predictor.leaderboard(silent=True).plot(kind=\"bar\", x=\"model\", y=\"score_val\")"
      ]
    },
    {
      "cell_type": "code",
      "execution_count": 36,
      "id": "373d5630-84b5-4fbb-9b9a-08871ec4fe98",
      "metadata": {
        "id": "373d5630-84b5-4fbb-9b9a-08871ec4fe98"
      },
      "outputs": [],
      "source": [
        "# Evaluate the models performance on the test dataset\n",
        "performance = predictor.evaluate(df_test)"
      ]
    },
    {
      "cell_type": "markdown",
      "id": "8614c377-9f5b-4a2a-bc3c-0a049413b6e5",
      "metadata": {
        "id": "8614c377-9f5b-4a2a-bc3c-0a049413b6e5"
      },
      "source": [
        "## AutoGluon Regression"
      ]
    },
    {
      "cell_type": "code",
      "execution_count": 37,
      "id": "6fe39b07-53b3-4576-b392-1a1df77b43f7",
      "metadata": {
        "id": "6fe39b07-53b3-4576-b392-1a1df77b43f7"
      },
      "outputs": [],
      "source": [
        "# Load in the diabetes dataset\n",
        "diabetes = datasets.load_diabetes()"
      ]
    },
    {
      "cell_type": "code",
      "execution_count": 38,
      "id": "e36b9530-5bcd-40b4-a1f0-e6ad32bac145",
      "metadata": {
        "id": "e36b9530-5bcd-40b4-a1f0-e6ad32bac145"
      },
      "outputs": [],
      "source": [
        "# Create the diabetes `data` dataset as a dataframe and name the columns with `feature_names`\n",
        "dfd = pd.DataFrame(diabetes[\"data\"], columns=diabetes[\"feature_names\"])\n",
        "\n",
        "# Include the target as well\n",
        "dfd['target'] = diabetes['target']"
      ]
    },
    {
      "cell_type": "code",
      "execution_count": 39,
      "id": "85a9b895-00a5-48b9-951f-e36436255d5c",
      "metadata": {
        "id": "85a9b895-00a5-48b9-951f-e36436255d5c"
      },
      "outputs": [],
      "source": [
        "# Split your data with these ratios: train: 0.8 | test: 0.2\n",
        "dfd_train, dfd_test = train_test_split(dfd, test_size=0.2, random_state=0)"
      ]
    },
    {
      "cell_type": "code",
      "execution_count": null,
      "id": "1b0f9d06-9436-4a4e-988d-f0ad00b26e10",
      "metadata": {
        "colab": {
          "base_uri": "https://localhost:8080/"
        },
        "id": "1b0f9d06-9436-4a4e-988d-f0ad00b26e10",
        "outputId": "0b4c26cd-8bf7-4b4f-d278-c90c1a860a1d",
        "tags": []
      },
      "outputs": [
        {
          "name": "stderr",
          "output_type": "stream",
          "text": [
            "No path specified. Models will be saved in: \"AutogluonModels/ag-20250527_115454\"\n",
            "Verbosity: 2 (Standard Logging)\n",
            "=================== System Info ===================\n",
            "AutoGluon Version:  1.3.1\n",
            "Python Version:     3.11.12\n",
            "Operating System:   Linux\n",
            "Platform Machine:   x86_64\n",
            "Platform Version:   #1 SMP PREEMPT_DYNAMIC Sun Mar 30 16:01:29 UTC 2025\n",
            "CPU Count:          2\n",
            "Memory Avail:       10.31 GB / 12.67 GB (81.3%)\n",
            "Disk Space Avail:   66.29 GB / 107.72 GB (61.5%)\n",
            "===================================================\n",
            "Presets specified: ['best_quality']\n",
            "Setting dynamic_stacking from 'auto' to True. Reason: Enable dynamic_stacking when use_bag_holdout is disabled. (use_bag_holdout=False)\n",
            "Stack configuration (auto_stack=True): num_stack_levels=1, num_bag_folds=8, num_bag_sets=1\n",
            "DyStack is enabled (dynamic_stacking=True). AutoGluon will try to determine whether the input data is affected by stacked overfitting and enable or disable stacking as a consequence.\n",
            "\tThis is used to identify the optimal `num_stack_levels` value. Copies of AutoGluon will be fit on subsets of the data. Then holdout validation data is used to detect stacked overfitting.\n",
            "\tRunning DyStack for up to 30s of the 120s of remaining time (25%).\n",
            "\t\tContext path: \"/content/AutogluonModels/ag-20250527_115454/ds_sub_fit/sub_fit_ho\"\n",
            "Leaderboard on holdout data (DyStack):\n",
            "                   model  score_holdout  score_val eval_metric  pred_time_test  pred_time_val   fit_time  pred_time_test_marginal  pred_time_val_marginal  fit_time_marginal  stack_level  can_infer  fit_order\n",
            "0  KNeighborsDist_BAG_L1       0.539150   0.428517          r2        0.016081       0.014635   0.020279                 0.016081                0.014635           0.020279            1       True          2\n",
            "1  KNeighborsUnif_BAG_L1       0.537705   0.417452          r2        0.016783       0.015942   0.009804                 0.016783                0.015942           0.009804            1       True          1\n",
            "2    WeightedEnsemble_L3       0.483116   0.532009          r2        5.864865       0.033102  48.692713                 0.003541                0.001365           0.049598            3       True          5\n",
            "3    WeightedEnsemble_L2       0.483116   0.532009          r2        5.867502       0.033436  48.694650                 0.006178                0.001699           0.051534            2       True          4\n",
            "4      LightGBMXT_BAG_L1       0.473523   0.531534          r2        5.845243       0.017101  48.622837                 5.845243                0.017101          48.622837            1       True          3\n",
            "\t1\t = Optimal   num_stack_levels (Stacked Overfitting Occurred: False)\n",
            "\t67s\t = DyStack   runtime |\t53s\t = Remaining runtime\n",
            "Starting main fit with num_stack_levels=1.\n",
            "\tFor future fit calls on this dataset, you can skip DyStack to save time: `predictor.fit(..., dynamic_stacking=False, num_stack_levels=1)`\n",
            "Beginning AutoGluon training ... Time limit = 53s\n",
            "AutoGluon will save models to \"/content/AutogluonModels/ag-20250527_115454\"\n",
            "Train Data Rows:    353\n",
            "Train Data Columns: 10\n",
            "Label Column:       target\n",
            "Problem Type:       regression\n",
            "Preprocessing data ...\n",
            "Using Feature Generators to preprocess the data ...\n",
            "Fitting AutoMLPipelineFeatureGenerator...\n",
            "\tAvailable Memory:                    10624.66 MB\n",
            "\tTrain Data (Original)  Memory Usage: 0.03 MB (0.0% of available memory)\n",
            "\tInferring data type of each feature based on column values. Set feature_metadata_in to manually specify special dtypes of the features.\n",
            "\tStage 1 Generators:\n",
            "\t\tFitting AsTypeFeatureGenerator...\n",
            "\t\t\tNote: Converting 1 features to boolean dtype as they only contain 2 unique values.\n",
            "\tStage 2 Generators:\n",
            "\t\tFitting FillNaFeatureGenerator...\n",
            "\tStage 3 Generators:\n",
            "\t\tFitting IdentityFeatureGenerator...\n",
            "\tStage 4 Generators:\n",
            "\t\tFitting DropUniqueFeatureGenerator...\n",
            "\tStage 5 Generators:\n",
            "\t\tFitting DropDuplicatesFeatureGenerator...\n",
            "\tTypes of features in original data (raw dtype, special dtypes):\n",
            "\t\t('float', []) : 10 | ['age', 'sex', 'bmi', 'bp', 's1', ...]\n",
            "\tTypes of features in processed data (raw dtype, special dtypes):\n",
            "\t\t('float', [])     : 9 | ['age', 'bmi', 'bp', 's1', 's2', ...]\n",
            "\t\t('int', ['bool']) : 1 | ['sex']\n",
            "\t0.1s = Fit runtime\n",
            "\t10 features in original data used to generate 10 features in processed data.\n",
            "\tTrain Data (Processed) Memory Usage: 0.02 MB (0.0% of available memory)\n",
            "Data preprocessing and feature engineering runtime = 0.11s ...\n",
            "AutoGluon will gauge predictive performance using evaluation metric: 'r2'\n",
            "\tTo change this, specify the eval_metric parameter of Predictor()\n",
            "Large model count detected (112 configs) ... Only displaying the first 3 models of each family. To see all, set `verbosity=3`.\n",
            "User-specified model hyperparameters to be fit:\n",
            "{\n",
            "\t'NN_TORCH': [{}, {'activation': 'elu', 'dropout_prob': 0.10077639529843717, 'hidden_size': 108, 'learning_rate': 0.002735937344002146, 'num_layers': 4, 'use_batchnorm': True, 'weight_decay': 1.356433327634438e-12, 'ag_args': {'name_suffix': '_r79', 'priority': -2}}, {'activation': 'elu', 'dropout_prob': 0.11897478034205347, 'hidden_size': 213, 'learning_rate': 0.0010474382260641949, 'num_layers': 4, 'use_batchnorm': False, 'weight_decay': 5.594471067786272e-10, 'ag_args': {'name_suffix': '_r22', 'priority': -7}}],\n",
            "\t'GBM': [{'extra_trees': True, 'ag_args': {'name_suffix': 'XT'}}, {}, {'learning_rate': 0.03, 'num_leaves': 128, 'feature_fraction': 0.9, 'min_data_in_leaf': 3, 'ag_args': {'name_suffix': 'Large', 'priority': 0, 'hyperparameter_tune_kwargs': None}}],\n",
            "\t'CAT': [{}, {'depth': 6, 'grow_policy': 'SymmetricTree', 'l2_leaf_reg': 2.1542798306067823, 'learning_rate': 0.06864209415792857, 'max_ctr_complexity': 4, 'one_hot_max_size': 10, 'ag_args': {'name_suffix': '_r177', 'priority': -1}}, {'depth': 8, 'grow_policy': 'Depthwise', 'l2_leaf_reg': 2.7997999596449104, 'learning_rate': 0.031375015734637225, 'max_ctr_complexity': 2, 'one_hot_max_size': 3, 'ag_args': {'name_suffix': '_r9', 'priority': -5}}],\n",
            "\t'XGB': [{}, {'colsample_bytree': 0.6917311125174739, 'enable_categorical': False, 'learning_rate': 0.018063876087523967, 'max_depth': 10, 'min_child_weight': 0.6028633586934382, 'ag_args': {'name_suffix': '_r33', 'priority': -8}}, {'colsample_bytree': 0.6628423832084077, 'enable_categorical': False, 'learning_rate': 0.08775715546881824, 'max_depth': 5, 'min_child_weight': 0.6294123374222513, 'ag_args': {'name_suffix': '_r89', 'priority': -16}}],\n",
            "\t'FASTAI': [{}, {'bs': 256, 'emb_drop': 0.5411770367537934, 'epochs': 43, 'layers': [800, 400], 'lr': 0.01519848858318159, 'ps': 0.23782946566604385, 'ag_args': {'name_suffix': '_r191', 'priority': -4}}, {'bs': 2048, 'emb_drop': 0.05070411322605811, 'epochs': 29, 'layers': [200, 100], 'lr': 0.08974235041576624, 'ps': 0.10393466140748028, 'ag_args': {'name_suffix': '_r102', 'priority': -11}}],\n",
            "\t'RF': [{'criterion': 'gini', 'ag_args': {'name_suffix': 'Gini', 'problem_types': ['binary', 'multiclass']}}, {'criterion': 'entropy', 'ag_args': {'name_suffix': 'Entr', 'problem_types': ['binary', 'multiclass']}}, {'criterion': 'squared_error', 'ag_args': {'name_suffix': 'MSE', 'problem_types': ['regression', 'quantile']}}],\n",
            "\t'XT': [{'criterion': 'gini', 'ag_args': {'name_suffix': 'Gini', 'problem_types': ['binary', 'multiclass']}}, {'criterion': 'entropy', 'ag_args': {'name_suffix': 'Entr', 'problem_types': ['binary', 'multiclass']}}, {'criterion': 'squared_error', 'ag_args': {'name_suffix': 'MSE', 'problem_types': ['regression', 'quantile']}}],\n",
            "\t'KNN': [{'weights': 'uniform', 'ag_args': {'name_suffix': 'Unif'}}, {'weights': 'distance', 'ag_args': {'name_suffix': 'Dist'}}],\n",
            "}\n",
            "AutoGluon will fit 2 stack levels (L1 to L2) ...\n",
            "Fitting 108 L1 models, fit_strategy=\"sequential\" ...\n",
            "Fitting model: KNeighborsUnif_BAG_L1 ... Training model for up to 35.01s of the 52.50s of remaining time.\n",
            "\t0.4305\t = Validation score   (r2)\n",
            "\t0.02s\t = Training   runtime\n",
            "\t0.02s\t = Validation runtime\n",
            "Fitting model: KNeighborsDist_BAG_L1 ... Training model for up to 34.95s of the 52.44s of remaining time.\n",
            "\t0.4397\t = Validation score   (r2)\n",
            "\t0.01s\t = Training   runtime\n",
            "\t0.02s\t = Validation runtime\n",
            "Fitting model: LightGBMXT_BAG_L1 ... Training model for up to 34.89s of the 52.38s of remaining time.\n",
            "\tFitting 8 child models (S1F1 - S1F8) | Fitting with ParallelLocalFoldFittingStrategy (2 workers, per: cpus=1, gpus=0, memory=0.05%)\n",
            "\t0.5311\t = Validation score   (r2)\n",
            "\t43.88s\t = Training   runtime\n",
            "\t0.03s\t = Validation runtime\n",
            "Fitting model: WeightedEnsemble_L2 ... Training model for up to 52.54s of the 3.19s of remaining time.\n",
            "\tEnsemble Weights: {'LightGBMXT_BAG_L1': 0.875, 'KNeighborsDist_BAG_L1': 0.125}\n",
            "\t0.5329\t = Validation score   (r2)\n",
            "\t0.06s\t = Training   runtime\n",
            "\t0.0s\t = Validation runtime\n",
            "Fitting 106 L2 models, fit_strategy=\"sequential\" ...\n",
            "Fitting model: LightGBMXT_BAG_L2 ... Training model for up to 3.10s of the 3.07s of remaining time.\n",
            "\tFitting 8 child models (S1F1 - S1F8) | Fitting with ParallelLocalFoldFittingStrategy (2 workers, per: cpus=1, gpus=0, memory=0.05%)\n"
          ]
        }
      ],
      "source": [
        "# How does the model perform on the training dataset and default model parameters?\n",
        "# Using the hyperparameters in the requirements, is there improvement?\n",
        "# Remember we use the test dataset to score the model\n",
        "# No need to explicitly say this is a regression, autogluon will pick it up\n",
        "predictor = TabularPredictor(\n",
        "    label=\"target\", problem_type=\"regression\", eval_metric=\"r2\"\n",
        ").fit(\n",
        "    train_data=dfd_train,\n",
        "    time_limit=120,\n",
        "    presets=\"best_quality\"\n",
        ")"
      ]
    },
    {
      "cell_type": "code",
      "execution_count": null,
      "id": "1b09621b-9ce7-4889-bcf9-c9b8687438ef",
      "metadata": {
        "id": "1b09621b-9ce7-4889-bcf9-c9b8687438ef",
        "tags": []
      },
      "outputs": [],
      "source": [
        "# Output the fit summary of the training run\n",
        "predictor.fit_summary()"
      ]
    },
    {
      "cell_type": "code",
      "execution_count": 44,
      "id": "6aba27bb",
      "metadata": {
        "colab": {
          "base_uri": "https://localhost:8080/",
          "height": 620
        },
        "id": "6aba27bb",
        "outputId": "312c359e-495f-4e09-c2d8-2f69ac359a44"
      },
      "outputs": [
        {
          "data": {
            "text/plain": [
              "<Axes: xlabel='model'>"
            ]
          },
          "execution_count": 44,
          "metadata": {},
          "output_type": "execute_result"
        },
        {
          "data": {
            "image/png": "[encoded data removed]",
            "text/plain": [
              "<Figure size 640x480 with 1 Axes>"
            ]
          },
          "metadata": {},
          "output_type": "display_data"
        }
      ],
      "source": [
        "predictor.leaderboard(silent=True).plot(kind=\"bar\", x=\"model\", y=\"score_val\")"
      ]
    },
    {
      "cell_type": "code",
      "execution_count": null,
      "id": "98c39401-a8cb-4e6c-aabb-c318f384e423",
      "metadata": {
        "id": "98c39401-a8cb-4e6c-aabb-c318f384e423"
      },
      "outputs": [],
      "source": [
        "# Evaluate the models performance on the test dataset\n",
        "performance = predictor.evaluate(dfd_test)"
      ]
    }
  ],
  "metadata": {
    "colab": {
      "provenance": []
    },
    "kernelspec": {
      "display_name": ".venv",
      "language": "python",
      "name": "python3"
    },
    "language_info": {
      "codemirror_mode": {
        "name": "ipython",
        "version": 3
      },
      "file_extension": ".py",
      "mimetype": "text/x-python",
      "name": "python",
      "nbconvert_exporter": "python",
      "pygments_lexer": "ipython3",
      "version": "3.12.3"
    }
  },
  "nbformat": 4,
  "nbformat_minor": 5
}
